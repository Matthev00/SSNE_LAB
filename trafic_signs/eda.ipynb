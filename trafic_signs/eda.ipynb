{
 "cells": [
  {
   "cell_type": "code",
   "execution_count": 2,
   "metadata": {},
   "outputs": [],
   "source": [
    "from torchvision.datasets import ImageFolder\n",
    "from torchvision.transforms import ToTensor"
   ]
  },
  {
   "cell_type": "code",
   "execution_count": 3,
   "metadata": {},
   "outputs": [],
   "source": [
    "dataset = ImageFolder(root=\"data/trafic_32\", transform=ToTensor())"
   ]
  },
  {
   "cell_type": "code",
   "execution_count": 4,
   "metadata": {},
   "outputs": [
    {
     "name": "stdout",
     "output_type": "stream",
     "text": [
      "Klasa: 00000, Liczebność: 210\n",
      "Klasa: 00001, Liczebność: 2220\n",
      "Klasa: 00002, Liczebność: 2250\n",
      "Klasa: 00003, Liczebność: 1410\n",
      "Klasa: 00004, Liczebność: 1980\n",
      "Klasa: 00005, Liczebność: 1860\n",
      "Klasa: 00006, Liczebność: 420\n",
      "Klasa: 00007, Liczebność: 1440\n",
      "Klasa: 00008, Liczebność: 1410\n",
      "Klasa: 00009, Liczebność: 1470\n",
      "Klasa: 00010, Liczebność: 2010\n",
      "Klasa: 00011, Liczebność: 1320\n",
      "Klasa: 00012, Liczebność: 2100\n",
      "Klasa: 00013, Liczebność: 2160\n",
      "Klasa: 00014, Liczebność: 780\n",
      "Klasa: 00015, Liczebność: 630\n",
      "Klasa: 00016, Liczebność: 420\n",
      "Klasa: 00017, Liczebność: 1110\n",
      "Klasa: 00018, Liczebność: 1200\n",
      "Klasa: 00019, Liczebność: 210\n",
      "Klasa: 00020, Liczebność: 360\n",
      "Klasa: 00021, Liczebność: 330\n",
      "Klasa: 00022, Liczebność: 390\n",
      "Klasa: 00023, Liczebność: 510\n",
      "Klasa: 00024, Liczebność: 270\n",
      "Klasa: 00025, Liczebność: 1500\n",
      "Klasa: 00026, Liczebność: 600\n",
      "Klasa: 00027, Liczebność: 240\n",
      "Klasa: 00028, Liczebność: 540\n",
      "Klasa: 00029, Liczebność: 270\n",
      "Klasa: 00030, Liczebność: 450\n",
      "Klasa: 00031, Liczebność: 780\n",
      "Klasa: 00032, Liczebność: 240\n",
      "Klasa: 00033, Liczebność: 689\n",
      "Klasa: 00034, Liczebność: 420\n",
      "Klasa: 00035, Liczebność: 1200\n",
      "Klasa: 00036, Liczebność: 390\n",
      "Klasa: 00037, Liczebność: 210\n",
      "Klasa: 00038, Liczebność: 2070\n",
      "Klasa: 00039, Liczebność: 300\n",
      "Klasa: 00040, Liczebność: 360\n",
      "Klasa: 00041, Liczebność: 240\n",
      "Klasa: 00042, Liczebność: 240\n"
     ]
    }
   ],
   "source": [
    "from collections import Counter\n",
    "\n",
    "class_counts = Counter(dataset.targets)\n",
    "\n",
    "for class_idx, count in class_counts.items():\n",
    "    class_name = dataset.classes[class_idx]\n",
    "    print(f\"Klasa: {class_name}, Liczebność: {count}\")"
   ]
  },
  {
   "cell_type": "code",
   "execution_count": 5,
   "metadata": {},
   "outputs": [
    {
     "name": "stdout",
     "output_type": "stream",
     "text": [
      "Średnia: tensor([0.3185, 0.2930, 0.3016])\n",
      "Odchylenie standardowe: tensor([0.2266, 0.2214, 0.2268])\n"
     ]
    }
   ],
   "source": [
    "from torch.utils.data import DataLoader\n",
    "import torch\n",
    "\n",
    "\n",
    "dataloader = DataLoader(dataset, batch_size=64, shuffle=False)\n",
    "\n",
    "mean = torch.zeros(3)\n",
    "std = torch.zeros(3)\n",
    "n_samples = 0\n",
    "\n",
    "for images, _ in dataloader:\n",
    "    n_samples += images.size(0)\n",
    "    mean += images.mean(dim=[0, 2, 3]) * images.size(0)\n",
    "    std += images.std(dim=[0, 2, 3]) * images.size(0)\n",
    "\n",
    "mean /= n_samples\n",
    "std /= n_samples\n",
    "\n",
    "print(f\"Średnia: {mean}\")\n",
    "print(f\"Odchylenie standardowe: {std}\")"
   ]
  },
  {
   "cell_type": "code",
   "execution_count": 6,
   "metadata": {},
   "outputs": [
    {
     "name": "stdout",
     "output_type": "stream",
     "text": [
      "tensor(0.) tensor(0.6000)\n"
     ]
    }
   ],
   "source": [
    "print(images.min(), images.max())"
   ]
  },
  {
   "cell_type": "code",
   "execution_count": 24,
   "metadata": {},
   "outputs": [],
   "source": [
    "val_size = 0.2\n",
    "val_length = 1000\n",
    "train_length = len(dataset) - val_length  # Pozostała liczba próbek\n",
    "\n",
    "train_dataset, val_dataset = torch.utils.data.random_split(\n",
    "    dataset,\n",
    "    [train_length, val_length],\n",
    ")"
   ]
  },
  {
   "cell_type": "code",
   "execution_count": 25,
   "metadata": {},
   "outputs": [
    {
     "name": "stdout",
     "output_type": "stream",
     "text": [
      "Różnice w procentowym udziale klas:\n",
      "Klasa: 38, Różnica: 0.33%\n",
      "Klasa: 1, Różnica: 0.86%\n",
      "Klasa: 5, Różnica: 0.78%\n",
      "Klasa: 13, Różnica: -0.73%\n",
      "Klasa: 2, Różnica: -0.55%\n",
      "Klasa: 28, Różnica: -0.39%\n",
      "Klasa: 3, Różnica: 0.00%\n",
      "Klasa: 9, Różnica: -0.15%\n",
      "Klasa: 10, Różnica: 1.00%\n",
      "Klasa: 20, Różnica: 0.19%\n",
      "Klasa: 40, Różnica: -0.33%\n",
      "Klasa: 8, Różnica: 0.31%\n",
      "Klasa: 26, Różnica: -0.24%\n",
      "Klasa: 4, Różnica: 0.26%\n",
      "Klasa: 41, Różnica: 0.30%\n",
      "Klasa: 15, Różnica: -0.62%\n",
      "Klasa: 18, Różnica: 0.04%\n",
      "Klasa: 12, Różnica: 0.15%\n",
      "Klasa: 17, Różnica: 0.28%\n",
      "Klasa: 33, Różnica: 0.25%\n",
      "Klasa: 25, Różnica: -1.26%\n",
      "Klasa: 32, Różnica: 0.40%\n",
      "Klasa: 6, Różnica: 0.03%\n",
      "Klasa: 19, Różnica: 0.17%\n",
      "Klasa: 42, Różnica: 0.19%\n",
      "Klasa: 11, Różnica: -0.38%\n",
      "Klasa: 34, Różnica: 0.23%\n",
      "Klasa: 14, Różnica: 0.73%\n",
      "Klasa: 24, Różnica: 0.01%\n",
      "Klasa: 36, Różnica: -0.40%\n",
      "Klasa: 16, Różnica: -0.38%\n",
      "Klasa: 35, Różnica: -0.78%\n",
      "Klasa: 22, Różnica: -0.20%\n",
      "Klasa: 23, Różnica: -0.10%\n",
      "Klasa: 7, Różnica: 0.13%\n",
      "Klasa: 30, Różnica: -0.15%\n",
      "Klasa: 21, Różnica: 0.06%\n",
      "Klasa: 29, Różnica: 0.22%\n",
      "Klasa: 37, Różnica: -0.14%\n",
      "Klasa: 39, Różnica: -0.17%\n",
      "Klasa: 31, Różnica: 0.63%\n",
      "Klasa: 0, Różnica: -0.45%\n",
      "Klasa: 27, Różnica: -0.12%\n"
     ]
    },
    {
     "data": {
      "image/png": "[encoded data removed]",
      "text/plain": [
       "<Figure size 1400x600 with 2 Axes>"
      ]
     },
     "metadata": {},
     "output_type": "display_data"
    }
   ],
   "source": [
    "import matplotlib.pyplot as plt\n",
    "from collections import Counter\n",
    "\n",
    "# Liczebność klas w zbiorze treningowym i walidacyjnym\n",
    "original_targets = dataset.targets  # Etykiety klas z ImageFolder\n",
    "\n",
    "# Pobranie indeksów dla zbiorów treningowego i walidacyjnego\n",
    "train_indices = train_dataset.indices\n",
    "val_indices = val_dataset.indices\n",
    "\n",
    "# Liczebność klas w zbiorze treningowym\n",
    "train_targets = [original_targets[i] for i in train_indices]\n",
    "class_counts_train = Counter(train_targets)\n",
    "\n",
    "# Liczebność klas w zbiorze walidacyjnym\n",
    "val_targets = [original_targets[i] for i in val_indices]\n",
    "class_counts_val = Counter(val_targets)\n",
    "\n",
    "# Obliczenie całkowitej liczby próbek w obu zbiorach\n",
    "total_train = sum(class_counts_train.values())\n",
    "total_val = sum(class_counts_val.values())\n",
    "\n",
    "# Obliczenie procentowego udziału klas\n",
    "percent_train = {\n",
    "    cls: (count / total_train) * 100 for cls, count in class_counts_train.items()\n",
    "}\n",
    "percent_val = {\n",
    "    cls: (count / total_val) * 100 for cls, count in class_counts_val.items()\n",
    "}\n",
    "\n",
    "# Obliczenie różnic w procentowym udziale klas\n",
    "differences = {}\n",
    "for class_idx in percent_train.keys():\n",
    "    train_percent = percent_train[class_idx]\n",
    "    val_percent = percent_val.get(\n",
    "        class_idx, 0\n",
    "    )  # Jeśli klasa nie istnieje w walidacyjnym, ustaw 0\n",
    "    difference = val_percent - train_percent  # Różnica w procentowym udziale\n",
    "    differences[class_idx] = difference\n",
    "\n",
    "# Wyświetlenie różnic w procentowym udziale klas\n",
    "print(\"Różnice w procentowym udziale klas:\")\n",
    "for class_idx, diff in differences.items():\n",
    "    print(f\"Klasa: {class_idx}, Różnica: {diff:.2f}%\")\n",
    "\n",
    "# Rysowanie histogramów\n",
    "fig, ax = plt.subplots(1, 2, figsize=(14, 6), sharey=True)\n",
    "\n",
    "# Histogram dla zbioru treningowego\n",
    "ax[0].bar(percent_train.keys(), percent_train.values(), color=\"blue\", alpha=0.7)\n",
    "ax[0].set_title(\"Rozkład klas - Zbiór treningowy\")\n",
    "ax[0].set_xlabel(\"Klasa\")\n",
    "ax[0].set_ylabel(\"Procentowy udział\")\n",
    "\n",
    "# Histogram dla zbioru walidacyjnego\n",
    "ax[1].bar(percent_val.keys(), percent_val.values(), color=\"orange\", alpha=0.7)\n",
    "ax[1].set_title(\"Rozkład klas - Zbiór walidacyjny\")\n",
    "ax[1].set_xlabel(\"Klasa\")\n",
    "\n",
    "plt.tight_layout()\n",
    "plt.show()"
   ]
  },
  {
   "cell_type": "code",
   "execution_count": 18,
   "metadata": {},
   "outputs": [
    {
     "data": {
      "text/plain": [
       "39209"
      ]
     },
     "execution_count": 18,
     "metadata": {},
     "output_type": "execute_result"
    }
   ],
   "source": [
    "len(dataset)"
   ]
  }
 ],
 "metadata": {
  "kernelspec": {
   "display_name": ".venv",
   "language": "python",
   "name": "python3"
  },
  "language_info": {
   "codemirror_mode": {
    "name": "ipython",
    "version": 3
   },
   "file_extension": ".py",
   "mimetype": "text/x-python",
   "name": "python",
   "nbconvert_exporter": "python",
   "pygments_lexer": "ipython3",
   "version": "3.13.0"
  }
 },
 "nbformat": 4,
 "nbformat_minor": 2
}
